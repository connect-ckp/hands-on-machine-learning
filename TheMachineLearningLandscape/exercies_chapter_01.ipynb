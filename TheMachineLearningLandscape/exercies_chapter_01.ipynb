{
 "cells": [
  {
   "cell_type": "markdown",
   "metadata": {},
   "source": [
    "# How would you define machine learning?\n",
    "\n",
    "# Can you name four types of problems where it shines?\n",
    "\n",
    "# What is a labeled training set?\n",
    "\n",
    "# What are the two most common supervised tasks?\n",
    "\n",
    "# Can you name four common unsupervised tasks?\n",
    "\n",
    "# What type of Machine Learning algorithm would you use to allow a robot to walk in various unknown terrains?\n",
    "\n",
    "# What type of algorith would you use to segment your customers into multiple groups?\n",
    "\n",
    "# Would you frame the problem of spam detection as a supervised learning problem or an unsupervised learning problem?\n",
    "\n",
    "# What is an online learning system?\n",
    "\n",
    "# What is out-of-core learning?\n",
    "\n",
    "# What type of learning algorithm relies on a similarity measure to make predictions?\n",
    "\n",
    "# What is the difference between a model parameter and a learning algorithm hyperparameter?\n",
    "\n",
    "# What do model-based learning algorithms search for? What is the most common strategy they use to succeed? How do they make predictions?\n",
    "\n",
    "# Can you name foru of the main challanges in Machine Learning?\n",
    "\n",
    "# If your model performs great on the trainign data but generalizes poorly to new instances, what is happening? Can you name three possible solutions?\n",
    "\n",
    "# What is a test set and why would you want to use it?\n",
    "\n",
    "# What is the purpose of a validation set?\n",
    "\n",
    "# What can go wrong if you tune hyperparameters using the test set?\n",
    "\n",
    "# What is cross-validation and why would you prefer it to a validation set?"
   ]
  }
 ],
 "metadata": {
  "kernelspec": {
   "display_name": "Python 3",
   "language": "python",
   "name": "python3"
  },
  "language_info": {
   "codemirror_mode": {
    "name": "ipython",
    "version": 3
   },
   "file_extension": ".py",
   "mimetype": "text/x-python",
   "name": "python",
   "nbconvert_exporter": "python",
   "pygments_lexer": "ipython3",
   "version": "3.6.3"
  }
 },
 "nbformat": 4,
 "nbformat_minor": 2
}
